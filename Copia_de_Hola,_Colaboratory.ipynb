{
  "nbformat": 4,
  "nbformat_minor": 0,
  "metadata": {
    "colab": {
      "name": "Copia de Hola, Colaboratory",
      "version": "0.3.2",
      "provenance": [],
      "collapsed_sections": []
    },
    "kernelspec": {
      "display_name": "Python 3",
      "name": "python3"
    }
  },
  "cells": [
    {
      "metadata": {
        "id": "jPJ3JVUui_qQ",
        "colab_type": "text"
      },
      "cell_type": "markdown",
      "source": [
        "<img height=\"60px\" src=\"/img/colab_favicon.ico\" align=\"left\" hspace=\"20px\" vspace=\"5px\">\n",
        "\n",
        "## ¡Te damos la bienvenida a Colaboratory!\n",
        "\n",
        "Colaboratory es un entorno gratuito de blocs de notas de Jupyter que no requiere configuración y se ejecuta completamente en la nube. Para obtener más información, consulta nuestras [preguntas frecuentes](https://research.google.com/colaboratory/faq.html)."
      ]
    },
    {
      "metadata": {
        "id": "3x0umHSFyx9L",
        "colab_type": "code",
        "colab": {
          "base_uri": "https://localhost:8080/",
          "height": 86
        },
        "outputId": "c8f02604-d9f7-4222-a96c-1d5fd7e2fc07"
      },
      "cell_type": "code",
      "source": [
        "n=int(input(\"dame el valor del grado que este entre [0,3]: \"))\n",
        "x=float(input(\"dame el valor de x: \"))\n",
        "f=0\n",
        "if n==0:\n",
        "  f=1\n",
        "elif n==1:\n",
        "  f=x\n",
        "elif n==2:\n",
        "  f=(3*x**2)/2 -0.5\n",
        "else:\n",
        "  f=(5*x**3)/2 - (3*x)/2\n",
        " \n",
        "print (f)\n",
        "w=0\n",
        "if n==0:\n",
        "  w=2/(1-x**2)\n",
        "elif n==1:\n",
        "  w=1\n",
        "elif n==2:\n",
        "  w=2/((1-x**2)(3*x))\n",
        "else:\n",
        "  w=2/((1-x**2)((15*x**2)/2 - 3/2))\n",
        "  \n",
        "print(w)\n"
      ],
      "execution_count": 0,
      "outputs": [
        {
          "output_type": "stream",
          "text": [
            "dame el valor del grado que este entre [0,3]: 2\n",
            "dame el valor de x: 5\n",
            "37.0\n",
            "15.0\n"
          ],
          "name": "stdout"
        }
      ]
    },
    {
      "metadata": {
        "id": "TH7jF3QM4XP6",
        "colab_type": "code",
        "colab": {
          "base_uri": "https://localhost:8080/",
          "height": 121
        },
        "outputId": "f36ca1a9-c741-4724-d41a-1930c5e0d3a5"
      },
      "cell_type": "code",
      "source": [
        "import sys\n",
        "from sympy import *\n",
        "sys.displayhook=pprint\n",
        "from scipy.misc import derivative\n",
        "\n",
        "x=Symbol(\"x\")\n",
        "derivada=0\n",
        "\n",
        "def pot(p,n):\n",
        "  \n",
        "  return expand(p**n)\n",
        "\n",
        "p=(x**2)-1\n",
        "n=int(input(\"dame el grado del polinomio: \"))\n",
        "x=float(input(\"dame el valor de x: \"))\n",
        "\n",
        "f=lambda x:pot(p,n)\n",
        "derivada= pot(p,n).diff(x)\n",
        "=float(sub(x))\n",
        "\n",
        "print(pot(p,n))\n",
        "print(derivada)\n",
        "print(derivative(f,x,dx=1e-6))"
      ],
      "execution_count": 3,
      "outputs": [
        {
          "output_type": "stream",
          "text": [
            "dame el grado del polinomio: 2\n",
            "dame el valor de x: 2\n",
            "x**4 - 2*x**2 + 1\n",
            "4*x**3 - 4*x\n",
            "0\n",
            "None\n"
          ],
          "name": "stdout"
        }
      ]
    },
    {
      "metadata": {
        "id": "b1bmUMVzg0W4",
        "colab_type": "code",
        "colab": {
          "base_uri": "https://localhost:8080/",
          "height": 52
        },
        "outputId": "d45eccb2-e250-433f-e031-daf9cad56733"
      },
      "cell_type": "code",
      "source": [
        "import numpy as np\n",
        "\n",
        "def funcion(x):\n",
        "  return x**3+2*x**2\n",
        "def integral(n,liminf,limsup):\n",
        "  xi,weights =np.polynomial.legendre.leggauss(n)\n",
        "  numericalintegral=0\n",
        "  for i in range (0,n):\n",
        "    numericalintegral=numericalintegral+weights[i]*funcion((limsup-liminf)/2 *xi[i]+(limsup+liminf)/2)\n",
        "  return 2.0*numericalintegral\n",
        "grado=int(input(\"dame el grado del polinomio: \"))\n",
        "print(integral(grado,1.0,5.0))"
      ],
      "execution_count": 19,
      "outputs": [
        {
          "output_type": "stream",
          "text": [
            "dame el grado del polinomio: 5\n",
            "238.66666666666669\n"
          ],
          "name": "stdout"
        }
      ]
    },
    {
      "metadata": {
        "id": "U_sODiPkshEp",
        "colab_type": "code",
        "colab": {}
      },
      "cell_type": "code",
      "source": [
        ""
      ],
      "execution_count": 0,
      "outputs": []
    }
  ]
}